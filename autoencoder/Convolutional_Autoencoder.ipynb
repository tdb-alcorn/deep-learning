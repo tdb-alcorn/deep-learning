{
 "cells": [
  {
   "cell_type": "markdown",
   "metadata": {},
   "source": [
    "# Convolutional Autoencoder\n",
    "\n",
    "Sticking with the MNIST dataset, let's improve our autoencoder's performance using convolutional layers. Again, loading modules and the data."
   ]
  },
  {
   "cell_type": "code",
   "execution_count": 1,
   "metadata": {},
   "outputs": [],
   "source": [
    "%matplotlib inline\n",
    "\n",
    "import numpy as np\n",
    "import tensorflow as tf\n",
    "import matplotlib.pyplot as plt"
   ]
  },
  {
   "cell_type": "code",
   "execution_count": 2,
   "metadata": {},
   "outputs": [
    {
     "name": "stdout",
     "output_type": "stream",
     "text": [
      "Extracting MNIST_data/train-images-idx3-ubyte.gz\n",
      "Extracting MNIST_data/train-labels-idx1-ubyte.gz\n",
      "Extracting MNIST_data/t10k-images-idx3-ubyte.gz\n",
      "Extracting MNIST_data/t10k-labels-idx1-ubyte.gz\n"
     ]
    }
   ],
   "source": [
    "from tensorflow.examples.tutorials.mnist import input_data\n",
    "mnist = input_data.read_data_sets('MNIST_data', validation_size=0)"
   ]
  },
  {
   "cell_type": "code",
   "execution_count": 3,
   "metadata": {},
   "outputs": [
    {
     "data": {
      "text/plain": [
       "<matplotlib.image.AxesImage at 0x7f457d0abda0>"
      ]
     },
     "execution_count": 3,
     "metadata": {},
     "output_type": "execute_result"
    },
    {
     "data": {
      "image/png": "[encoded data removed]",
      "text/plain": [
       "<matplotlib.figure.Figure at 0x7f45870d64a8>"
      ]
     },
     "metadata": {},
     "output_type": "display_data"
    }
   ],
   "source": [
    "img = mnist.train.images[2]\n",
    "plt.imshow(img.reshape((28, 28)), cmap='Greys_r')"
   ]
  },
  {
   "cell_type": "markdown",
   "metadata": {},
   "source": [
    "## Network Architecture\n",
    "\n",
    "The encoder part of the network will be a typical convolutional pyramid. Each convolutional layer will be followed by a max-pooling layer to reduce the dimensions of the layers. The decoder though might be something new to you. The decoder needs to convert from a narrow representation to a wide reconstructed image. For example, the representation could be a 4x4x8 max-pool layer. This is the output of the encoder, but also the input to the decoder. We want to get a 28x28x1 image out from the decoder so we need to work our way back up from the narrow decoder input layer. A schematic of the network is shown below.\n",
    "\n",
    "<img src='assets/convolutional_autoencoder.png' width=500px>\n",
    "\n",
    "Here our final encoder layer has size 4x4x8 = 128. The original images have size 28x28 = 784, so the encoded vector is roughly 16% the size of the original image. These are just suggested sizes for each of the layers. Feel free to change the depths and sizes, but remember our goal here is to find a small representation of the input data.\n",
    "\n",
    "### What's going on with the decoder\n",
    "\n",
    "Okay, so the decoder has these \"Upsample\" layers that you might not have seen before. First off, I'll discuss a bit what these layers *aren't*. Usually, you'll see **transposed convolution** layers used to increase the width and height of the layers. They work almost exactly the same as convolutional layers, but in reverse. A stride in the input layer results in a larger stride in the transposed convolution layer. For example, if you have a 3x3 kernel, a 3x3 patch in the input layer will be reduced to one unit in a convolutional layer. Comparatively, one unit in the input layer will be expanded to a 3x3 path in a transposed convolution layer. The TensorFlow API provides us with an easy way to create the layers, [`tf.nn.conv2d_transpose`](https://www.tensorflow.org/api_docs/python/tf/nn/conv2d_transpose). \n",
    "\n",
    "However, transposed convolution layers can lead to artifacts in the final images, such as checkerboard patterns. This is due to overlap in the kernels which can be avoided by setting the stride and kernel size equal. In [this Distill article](http://distill.pub/2016/deconv-checkerboard/) from Augustus Odena, *et al*, the authors show that these checkerboard artifacts can be avoided by resizing the layers using nearest neighbor or bilinear interpolation (upsampling) followed by a convolutional layer. In TensorFlow, this is easily done with [`tf.image.resize_images`](https://www.tensorflow.org/versions/r1.1/api_docs/python/tf/image/resize_images), followed by a convolution. Be sure to read the Distill article to get a better understanding of deconvolutional layers and why we're using upsampling.\n",
    "\n",
    "> **Exercise:** Build the network shown above. Remember that a convolutional layer with strides of 1 and 'same' padding won't reduce the height and width. That is, if the input is 28x28 and the convolution layer has stride = 1 and 'same' padding, the convolutional layer will also be 28x28. The max-pool layers are used the reduce the width and height. A stride of 2 will reduce the size by a factor of 2. Odena *et al* claim that nearest neighbor interpolation works best for the upsampling, so make sure to include that as a parameter in `tf.image.resize_images` or use [`tf.image.resize_nearest_neighbor`]( `https://www.tensorflow.org/api_docs/python/tf/image/resize_nearest_neighbor). For convolutional layers, use [`tf.layers.conv2d`](https://www.tensorflow.org/api_docs/python/tf/layers/conv2d). For example, you would write `conv1 = tf.layers.conv2d(inputs, 32, (5,5), padding='same', activation=tf.nn.relu)` for a layer with a depth of 32, a 5x5 kernel, stride of (1,1), padding is 'same', and a ReLU activation. Similarly, for the max-pool layers, use [`tf.layers.max_pooling2d`](https://www.tensorflow.org/api_docs/python/tf/layers/max_pooling2d)."
   ]
  },
  {
   "cell_type": "code",
   "execution_count": 20,
   "metadata": {},
   "outputs": [
    {
     "data": {
      "text/plain": [
       "array([[ 1,  2,  3],\n",
       "       [ 4,  5,  6],\n",
       "       [ 7,  8,  9],\n",
       "       [10, 11, 12],\n",
       "       [13, 14, 15],\n",
       "       [16, 17, 18],\n",
       "       [19, 20, 21],\n",
       "       [22, 23, 24]])"
      ]
     },
     "execution_count": 20,
     "metadata": {},
     "output_type": "execute_result"
    }
   ],
   "source": [
    "arr = np.array([[1,2,3],[4,5,6],[7,8,9], [10,11,12]])\n",
    "arr3d = np.array([arr, arr+12])\n",
    "# np.transpose(arr3d, [1,2,0])\n",
    "np.reshape(arr3d, (-1, 3))"
   ]
  },
  {
   "cell_type": "code",
   "execution_count": 51,
   "metadata": {},
   "outputs": [
    {
     "name": "stdout",
     "output_type": "stream",
     "text": [
      "(2, 2)\n"
     ]
    }
   ],
   "source": [
    "# 3-D tensor `a`\n",
    "# [[[ 1,  2,  3],\n",
    "#   [ 4,  5,  6]],\n",
    "#  [[ 7,  8,  9],\n",
    "#   [10, 11, 12]]]\n",
    "a = tf.constant(np.arange(-11, 13, dtype=np.int32),\n",
    "                shape=[4, 2, 3])\n",
    "\n",
    "# 3-D tensor `b`\n",
    "# [[[13, 14],\n",
    "#   [15, 16],\n",
    "#   [17, 18]],\n",
    "#  [[19, 20],\n",
    "#   [21, 22],\n",
    "#   [23, 24]]]\n",
    "b = tf.constant(np.arange(13, 25, dtype=np.int32),\n",
    "                shape=[2, 3, 2])\n",
    "\n",
    "# `a` * `b`\n",
    "# [[[ 94, 100],\n",
    "#   [229, 244]],\n",
    "#  [[508, 532],\n",
    "#   [697, 730]]]\n",
    "c = tf.matmul(a[0], b[0])\n",
    "print(c.shape)"
   ]
  },
  {
   "cell_type": "code",
   "execution_count": 61,
   "metadata": {},
   "outputs": [
    {
     "name": "stdout",
     "output_type": "stream",
     "text": [
      "[[[-11 -10  -9]\n",
      "  [ -8  -7  -6]]\n",
      "\n",
      " [[ -5  -4  -3]\n",
      "  [ -2  -1   0]]\n",
      "\n",
      " [[  1   2   3]\n",
      "  [  4   5   6]]\n",
      "\n",
      " [[  7   8   9]\n",
      "  [ 10  11  12]]]\n",
      "\n",
      "[[[-11 -10  -9]\n",
      "  [ -8  -7  -6]]]\n",
      "\n",
      "[[[13 14]\n",
      "  [15 16]\n",
      "  [17 18]]\n",
      "\n",
      " [[19 20]\n",
      "  [21 22]\n",
      "  [23 24]]]\n",
      "\n",
      "(4, 2, 2, 2)\n"
     ]
    }
   ],
   "source": [
    "a = np.arange(-11,13).reshape((4,2,3))\n",
    "b = np.arange(13,25).reshape(2,3,2)\n",
    "print(a)\n",
    "print()\n",
    "print(a[None, 0, :])\n",
    "print()\n",
    "print(b)\n",
    "print()\n",
    "c = np.dot(a,b)\n",
    "# d = np.matmul(a,np.transpose(b, (1,0,2)))\n",
    "print(c.shape)\n",
    "# print(d)"
   ]
  },
  {
   "cell_type": "code",
   "execution_count": 51,
   "metadata": {},
   "outputs": [
    {
     "name": "stdout",
     "output_type": "stream",
     "text": [
      "(?, 28, 28, 4)\n",
      "(?, 14, 14, 4)\n",
      "(?, 14, 14, 8)\n",
      "(?, 7, 7, 8)\n",
      "(?, 7, 7, 16)\n",
      "(?, 4, 4, 16)\n",
      "(?, 7, 7, 16)\n",
      "(?, 7, 7, 16)\n",
      "(?, 14, 14, 16)\n",
      "(?, 14, 14, 16)\n",
      "(?, 28, 28, 16)\n",
      "(?, 28, 28, 16)\n",
      "(?, 28, 28, 1)\n",
      "(?, 28, 28, 1)\n"
     ]
    }
   ],
   "source": [
    "learning_rate = 0.001\n",
    "\n",
    "image_dim = 28\n",
    "channels = 1\n",
    "\n",
    "# Input and target placeholders\n",
    "inputs_ = tf.placeholder(tf.float32, shape=(None, image_dim, image_dim, channels))\n",
    "targets_ = tf.placeholder(tf.float32, shape=(None, image_dim, image_dim, channels))\n",
    "\n",
    "def conv_layer(inputs, filters, activation=tf.nn.relu):\n",
    "    return tf.layers.conv2d(inputs, filters, 4, strides=(1,1), padding='same', activation=activation)\n",
    "def max_pool_layer(inputs):\n",
    "    return tf.layers.max_pooling2d(inputs, 2, 2, padding='same')\n",
    "def upsample_layer(inputs, size):\n",
    "#     return tf.image.resize_images(inputs, size, method=tf.image.ResizeMethod.NEAREST_NEIGHBOR)\n",
    "    return tf.image.resize_nearest_neighbor(inputs, size)\n",
    "\n",
    "### Encoder\n",
    "conv1 = conv_layer(inputs_, 4)\n",
    "# Now 28x28x16\n",
    "maxpool1 = max_pool_layer(conv1)\n",
    "# Now 14x14x16\n",
    "conv2 = conv_layer(maxpool1, 8)\n",
    "# Now 14x14x8\n",
    "maxpool2 = max_pool_layer(conv2)\n",
    "# Now 7x7x8\n",
    "conv3 = conv_layer(maxpool2, 16)\n",
    "# Now 7x7x8\n",
    "encoded = max_pool_layer(conv3)\n",
    "# Now 4x4x8\n",
    "\n",
    "### Decoder\n",
    "upsample1 = upsample_layer(encoded, (7,7))\n",
    "# Now 7x7x8\n",
    "conv4 = conv_layer(upsample1, 16)\n",
    "# Now 7x7x8\n",
    "upsample2 = upsample_layer(conv4, (14,14))\n",
    "# Now 14x14x8\n",
    "conv5 = conv_layer(upsample2, 16)\n",
    "# Now 14x14x8\n",
    "upsample3 = upsample_layer(conv5, (28,28))\n",
    "# Now 28x28x8\n",
    "conv6 = conv_layer(upsample3, 16)\n",
    "# Now 28x28x16\n",
    "\n",
    "# x = tf.reshape(conv6, (tf.shape(conv6)[0], 784, 16))\n",
    "x = tf.transpose(conv6, (1,2,0,3))\n",
    "# x = tf.reshape(conv6, (784, tf.shape(conv6)[0], 16))\n",
    "x = tf.reshape(x, (784, -1, 16))\n",
    "weights = tf.Variable(tf.truncated_normal((784,16,1), stddev=0.25))\n",
    "bias = tf.Variable(tf.zeros((784,1,)))\n",
    "# f = tf.add(tf.tensordot(x, weights, 1), bias)\n",
    "f = tf.matmul(x, weights)\n",
    "f = tf.transpose(f, (1,0,2))\n",
    "f = tf.add(f, bias)\n",
    "logits = tf.reshape(f, (-1, 28, 28, 1))\n",
    "\n",
    "# logits = conv_layer(conv6, 1, activation=None)\n",
    "#Now 28x28x1\n",
    "\n",
    "# Pass logits through sigmoid to get reconstructed image\n",
    "decoded = tf.nn.sigmoid(logits)\n",
    "\n",
    "layers = [\n",
    "    conv1,\n",
    "    maxpool1,\n",
    "    conv2,\n",
    "    maxpool2,\n",
    "    conv3,\n",
    "    encoded,\n",
    "    upsample1,\n",
    "    conv4,\n",
    "    upsample2,\n",
    "    conv5,\n",
    "    upsample3,\n",
    "    conv6,\n",
    "    logits,\n",
    "    decoded\n",
    "]\n",
    "\n",
    "for layer in layers:\n",
    "    print(layer.shape)\n",
    "\n",
    "# Pass logits through sigmoid and calculate the cross-entropy loss\n",
    "loss = tf.nn.sigmoid_cross_entropy_with_logits(labels=targets_, logits=logits)\n",
    "\n",
    "# Get cost and define the optimizer\n",
    "cost = tf.reduce_mean(loss)\n",
    "opt = tf.train.AdamOptimizer(learning_rate).minimize(cost)"
   ]
  },
  {
   "cell_type": "markdown",
   "metadata": {},
   "source": [
    "## Training\n",
    "\n",
    "As before, here we'll train the network. Instead of flattening the images though, we can pass them in as 28x28x1 arrays."
   ]
  },
  {
   "cell_type": "code",
   "execution_count": 52,
   "metadata": {},
   "outputs": [],
   "source": [
    "sess.close()\n",
    "sess = tf.Session()\n",
    "sess.run(tf.global_variables_initializer())"
   ]
  },
  {
   "cell_type": "code",
   "execution_count": 53,
   "metadata": {
    "scrolled": true
   },
   "outputs": [
    {
     "name": "stdout",
     "output_type": "stream",
     "text": [
      "Epoch: 1/20... Training loss: 0.3782\n",
      "Epoch: 2/20... Training loss: 0.1833\n",
      "Epoch: 3/20... Training loss: 0.1535\n",
      "Epoch: 4/20... Training loss: 0.1351\n",
      "Epoch: 5/20... Training loss: 0.1234\n",
      "Epoch: 6/20... Training loss: 0.1152\n",
      "Epoch: 7/20... Training loss: 0.1104\n",
      "Epoch: 8/20... Training loss: 0.1069\n",
      "Epoch: 9/20... Training loss: 0.1040\n",
      "Epoch: 10/20... Training loss: 0.1017\n",
      "Epoch: 11/20... Training loss: 0.1001\n",
      "Epoch: 12/20... Training loss: 0.0982\n",
      "Epoch: 13/20... Training loss: 0.0968\n",
      "Epoch: 14/20... Training loss: 0.0955\n",
      "Epoch: 15/20... Training loss: 0.0947\n",
      "Epoch: 16/20... Training loss: 0.0934\n",
      "Epoch: 17/20... Training loss: 0.0926\n",
      "Epoch: 18/20... Training loss: 0.0918\n",
      "Epoch: 19/20... Training loss: 0.0912\n",
      "Epoch: 20/20... Training loss: 0.0904\n"
     ]
    }
   ],
   "source": [
    "epochs = 20\n",
    "batch_size = 500\n",
    "# sess.run(tf.global_variables_initializer())\n",
    "for e in range(epochs):\n",
    "    costs = []\n",
    "    for ii in range(mnist.train.num_examples//batch_size):\n",
    "        batch = mnist.train.next_batch(batch_size)\n",
    "        imgs = batch[0].reshape((-1, 28, 28, 1))\n",
    "        batch_cost, _ = sess.run([cost, opt], feed_dict={inputs_: imgs,\n",
    "                                                         targets_: imgs})\n",
    "        costs.append(batch_cost)\n",
    "\n",
    "    print(\"Epoch: {}/{}...\".format(e+1, epochs),\n",
    "          \"Training loss: {:.4f}\".format(np.mean(np.array(costs))))"
   ]
  },
  {
   "cell_type": "code",
   "execution_count": 54,
   "metadata": {},
   "outputs": [
    {
     "data": {
      "image/png": "[encoded data removed]",
      "text/plain": [
       "<matplotlib.figure.Figure at 0x7f4570ad6438>"
      ]
     },
     "metadata": {},
     "output_type": "display_data"
    }
   ],
   "source": [
    "fig, axes = plt.subplots(nrows=2, ncols=10, sharex=True, sharey=True, figsize=(20,4))\n",
    "in_imgs = mnist.test.images[:10]\n",
    "reconstructed = sess.run(decoded, feed_dict={inputs_: in_imgs.reshape((10, 28, 28, 1))})\n",
    "\n",
    "for images, row in zip([in_imgs, reconstructed], axes):\n",
    "    for img, ax in zip(images, row):\n",
    "        ax.imshow(img.reshape((28, 28)), cmap='Greys_r')\n",
    "        ax.get_xaxis().set_visible(False)\n",
    "        ax.get_yaxis().set_visible(False)\n",
    "\n",
    "\n",
    "fig.tight_layout(pad=0.1)"
   ]
  },
  {
   "cell_type": "code",
   "execution_count": 69,
   "metadata": {},
   "outputs": [],
   "source": [
    "sess.close()"
   ]
  },
  {
   "cell_type": "code",
   "execution_count": 55,
   "metadata": {},
   "outputs": [],
   "source": [
    "import PIL\n",
    "\n",
    "def remap(x, low_in, high_in, low_out, high_out):\n",
    "    return (x - low_in)/(high_in-low_in)*(high_out-low_out) + low_out"
   ]
  },
  {
   "cell_type": "code",
   "execution_count": 64,
   "metadata": {},
   "outputs": [
    {
     "data": {
      "image/png": "[encoded data removed]",
      "text/plain": [
       "<matplotlib.figure.Figure at 0x7f4570b209b0>"
      ]
     },
     "metadata": {},
     "output_type": "display_data"
    }
   ],
   "source": [
    "img = PIL.Image.open('./fun/4.png').convert('L')\n",
    "img_arr = np.asarray(img, dtype=np.float32).reshape((28, 28, 1))\n",
    "img_arr_rm = remap(img_arr, 255, 0, 0, 1)\n",
    "reconstructed, compressed = sess.run([decoded, encoded], feed_dict={inputs_: [img_arr_rm]})\n",
    "fig, axes = plt.subplots(nrows=1, ncols=2, figsize=(16,5))\n",
    "axes[0].imshow(img_arr_rm.reshape((28,28)), cmap='Greys_r')\n",
    "axes[0].get_xaxis().set_visible(False)\n",
    "axes[0].get_yaxis().set_visible(False)\n",
    "axes[1].imshow(reconstructed.reshape((28,28)), cmap='Greys_r')\n",
    "axes[1].get_xaxis().set_visible(False)\n",
    "axes[1].get_yaxis().set_visible(False)"
   ]
  },
  {
   "cell_type": "markdown",
   "metadata": {},
   "source": [
    "## Denoising\n",
    "\n",
    "As I've mentioned before, autoencoders like the ones you've built so far aren't too useful in practive. However, they can be used to denoise images quite successfully just by training the network on noisy images. We can create the noisy images ourselves by adding Gaussian noise to the training images, then clipping the values to be between 0 and 1. We'll use noisy images as input and the original, clean images as targets. Here's an example of the noisy images I generated and the denoised images.\n",
    "\n",
    "![Denoising autoencoder](assets/denoising.png)\n",
    "\n",
    "\n",
    "Since this is a harder problem for the network, we'll want to use deeper convolutional layers here, more feature maps. I suggest something like 32-32-16 for the depths of the convolutional layers in the encoder, and the same depths going backward through the decoder. Otherwise the architecture is the same as before.\n",
    "\n",
    "> **Exercise:** Build the network for the denoising autoencoder. It's the same as before, but with deeper layers. I suggest 32-32-16 for the depths, but you can play with these numbers, or add more layers."
   ]
  },
  {
   "cell_type": "code",
   "execution_count": 70,
   "metadata": {},
   "outputs": [],
   "source": [
    "learning_rate = 0.001\n",
    "inputs_ = tf.placeholder(tf.float32, (None, 28, 28, 1), name='inputs')\n",
    "targets_ = tf.placeholder(tf.float32, (None, 28, 28, 1), name='targets')\n",
    "\n",
    "def conv_layer(inputs, filters, activation=tf.nn.relu):\n",
    "    return tf.layers.conv2d(inputs, filters, 4, strides=(1,1), padding='same', activation=activation)\n",
    "def max_pool_layer(inputs):\n",
    "    return tf.layers.max_pooling2d(inputs, 2, 2, padding='same')\n",
    "def upsample_layer(inputs, size):\n",
    "#     return tf.image.resize_images(inputs, size, method=tf.image.ResizeMethod.NEAREST_NEIGHBOR)\n",
    "    return tf.image.resize_nearest_neighbor(inputs, size)\n",
    "\n",
    "### Encoder\n",
    "conv1 = conv_layer(inputs_, 32)\n",
    "# Now 28x28x32\n",
    "maxpool1 = max_pool_layer(conv1)\n",
    "# Now 14x14x32\n",
    "conv2 = conv_layer(maxpool1, 32)\n",
    "# Now 14x14x32\n",
    "maxpool2 = max_pool_layer(conv2)\n",
    "# Now 7x7x32\n",
    "conv3 = conv_layer(maxpool2, 16)\n",
    "# Now 7x7x16\n",
    "encoded = max_pool_layer(conv3)\n",
    "# Now 4x4x16\n",
    "\n",
    "### Decoder\n",
    "upsample1 = upsample_layer(encoded, (7,7))\n",
    "# Now 7x7x16\n",
    "conv4 = conv_layer(upsample1, 16)\n",
    "# Now 7x7x16\n",
    "upsample2 = upsample_layer(conv4, (14,14))\n",
    "# Now 14x14x16\n",
    "conv5 = conv_layer(upsample2, 16)\n",
    "# Now 14x14x32\n",
    "upsample3 = upsample_layer(conv5, (28,28))\n",
    "# Now 28x28x32\n",
    "conv6 = conv_layer(upsample3, 32)\n",
    "# Now 28x28x32\n",
    "\n",
    "logits = conv_layer(conv6, 1, activation=None)\n",
    "#Now 28x28x1\n",
    "\n",
    "# Pass logits through sigmoid to get reconstructed image\n",
    "decoded = tf.nn.sigmoid(logits)\n",
    "\n",
    "# Pass logits through sigmoid and calculate the cross-entropy loss\n",
    "loss = tf.nn.sigmoid_cross_entropy_with_logits(labels=targets_, logits=logits)\n",
    "\n",
    "# Get cost and define the optimizer\n",
    "cost = tf.reduce_mean(loss)\n",
    "opt = tf.train.AdamOptimizer(learning_rate).minimize(cost)"
   ]
  },
  {
   "cell_type": "code",
   "execution_count": 71,
   "metadata": {},
   "outputs": [],
   "source": [
    "sess = tf.Session()"
   ]
  },
  {
   "cell_type": "code",
   "execution_count": 72,
   "metadata": {},
   "outputs": [
    {
     "name": "stdout",
     "output_type": "stream",
     "text": [
      "Epoch: 1/100... Training loss: 0.2921\n",
      "Epoch: 2/100... Training loss: 0.1801\n",
      "Epoch: 3/100... Training loss: 0.1547\n",
      "Epoch: 4/100... Training loss: 0.1424\n",
      "Epoch: 5/100... Training loss: 0.1360\n",
      "Epoch: 6/100... Training loss: 0.1311\n",
      "Epoch: 7/100... Training loss: 0.1273\n",
      "Epoch: 8/100... Training loss: 0.1245\n",
      "Epoch: 9/100... Training loss: 0.1221\n",
      "Epoch: 10/100... Training loss: 0.1203\n",
      "Epoch: 11/100... Training loss: 0.1186\n",
      "Epoch: 12/100... Training loss: 0.1172\n",
      "Epoch: 13/100... Training loss: 0.1162\n",
      "Epoch: 14/100... Training loss: 0.1146\n",
      "Epoch: 15/100... Training loss: 0.1137\n",
      "Epoch: 16/100... Training loss: 0.1130\n",
      "Epoch: 17/100... Training loss: 0.1122\n"
     ]
    },
    {
     "ename": "KeyboardInterrupt",
     "evalue": "",
     "output_type": "error",
     "traceback": [
      "\u001b[0;31m---------------------------------------------------------------------------\u001b[0m",
      "\u001b[0;31mKeyboardInterrupt\u001b[0m                         Traceback (most recent call last)",
      "\u001b[0;32m<ipython-input-72-53171e3c2be3>\u001b[0m in \u001b[0;36m<module>\u001b[0;34m()\u001b[0m\n\u001b[1;32m     18\u001b[0m         \u001b[0;31m# Noisy images as inputs, original images as targets\u001b[0m\u001b[0;34m\u001b[0m\u001b[0;34m\u001b[0m\u001b[0m\n\u001b[1;32m     19\u001b[0m         batch_cost, _ = sess.run([cost, opt], feed_dict={inputs_: noisy_imgs,\n\u001b[0;32m---> 20\u001b[0;31m                                                          targets_: imgs})\n\u001b[0m\u001b[1;32m     21\u001b[0m \u001b[0;34m\u001b[0m\u001b[0m\n\u001b[1;32m     22\u001b[0m         \u001b[0mcosts\u001b[0m\u001b[0;34m.\u001b[0m\u001b[0mappend\u001b[0m\u001b[0;34m(\u001b[0m\u001b[0mbatch_cost\u001b[0m\u001b[0;34m)\u001b[0m\u001b[0;34m\u001b[0m\u001b[0m\n",
      "\u001b[0;32m/usr/local/lib/python3.5/dist-packages/tensorflow/python/client/session.py\u001b[0m in \u001b[0;36mrun\u001b[0;34m(self, fetches, feed_dict, options, run_metadata)\u001b[0m\n\u001b[1;32m    765\u001b[0m     \u001b[0;32mtry\u001b[0m\u001b[0;34m:\u001b[0m\u001b[0;34m\u001b[0m\u001b[0m\n\u001b[1;32m    766\u001b[0m       result = self._run(None, fetches, feed_dict, options_ptr,\n\u001b[0;32m--> 767\u001b[0;31m                          run_metadata_ptr)\n\u001b[0m\u001b[1;32m    768\u001b[0m       \u001b[0;32mif\u001b[0m \u001b[0mrun_metadata\u001b[0m\u001b[0;34m:\u001b[0m\u001b[0;34m\u001b[0m\u001b[0m\n\u001b[1;32m    769\u001b[0m         \u001b[0mproto_data\u001b[0m \u001b[0;34m=\u001b[0m \u001b[0mtf_session\u001b[0m\u001b[0;34m.\u001b[0m\u001b[0mTF_GetBuffer\u001b[0m\u001b[0;34m(\u001b[0m\u001b[0mrun_metadata_ptr\u001b[0m\u001b[0;34m)\u001b[0m\u001b[0;34m\u001b[0m\u001b[0m\n",
      "\u001b[0;32m/usr/local/lib/python3.5/dist-packages/tensorflow/python/client/session.py\u001b[0m in \u001b[0;36m_run\u001b[0;34m(self, handle, fetches, feed_dict, options, run_metadata)\u001b[0m\n\u001b[1;32m    963\u001b[0m     \u001b[0;32mif\u001b[0m \u001b[0mfinal_fetches\u001b[0m \u001b[0;32mor\u001b[0m \u001b[0mfinal_targets\u001b[0m\u001b[0;34m:\u001b[0m\u001b[0;34m\u001b[0m\u001b[0m\n\u001b[1;32m    964\u001b[0m       results = self._do_run(handle, final_targets, final_fetches,\n\u001b[0;32m--> 965\u001b[0;31m                              feed_dict_string, options, run_metadata)\n\u001b[0m\u001b[1;32m    966\u001b[0m     \u001b[0;32melse\u001b[0m\u001b[0;34m:\u001b[0m\u001b[0;34m\u001b[0m\u001b[0m\n\u001b[1;32m    967\u001b[0m       \u001b[0mresults\u001b[0m \u001b[0;34m=\u001b[0m \u001b[0;34m[\u001b[0m\u001b[0;34m]\u001b[0m\u001b[0;34m\u001b[0m\u001b[0m\n",
      "\u001b[0;32m/usr/local/lib/python3.5/dist-packages/tensorflow/python/client/session.py\u001b[0m in \u001b[0;36m_do_run\u001b[0;34m(self, handle, target_list, fetch_list, feed_dict, options, run_metadata)\u001b[0m\n\u001b[1;32m   1013\u001b[0m     \u001b[0;32mif\u001b[0m \u001b[0mhandle\u001b[0m \u001b[0;32mis\u001b[0m \u001b[0;32mNone\u001b[0m\u001b[0;34m:\u001b[0m\u001b[0;34m\u001b[0m\u001b[0m\n\u001b[1;32m   1014\u001b[0m       return self._do_call(_run_fn, self._session, feed_dict, fetch_list,\n\u001b[0;32m-> 1015\u001b[0;31m                            target_list, options, run_metadata)\n\u001b[0m\u001b[1;32m   1016\u001b[0m     \u001b[0;32melse\u001b[0m\u001b[0;34m:\u001b[0m\u001b[0;34m\u001b[0m\u001b[0m\n\u001b[1;32m   1017\u001b[0m       return self._do_call(_prun_fn, self._session, handle, feed_dict,\n",
      "\u001b[0;32m/usr/local/lib/python3.5/dist-packages/tensorflow/python/client/session.py\u001b[0m in \u001b[0;36m_do_call\u001b[0;34m(self, fn, *args)\u001b[0m\n\u001b[1;32m   1020\u001b[0m   \u001b[0;32mdef\u001b[0m \u001b[0m_do_call\u001b[0m\u001b[0;34m(\u001b[0m\u001b[0mself\u001b[0m\u001b[0;34m,\u001b[0m \u001b[0mfn\u001b[0m\u001b[0;34m,\u001b[0m \u001b[0;34m*\u001b[0m\u001b[0margs\u001b[0m\u001b[0;34m)\u001b[0m\u001b[0;34m:\u001b[0m\u001b[0;34m\u001b[0m\u001b[0m\n\u001b[1;32m   1021\u001b[0m     \u001b[0;32mtry\u001b[0m\u001b[0;34m:\u001b[0m\u001b[0;34m\u001b[0m\u001b[0m\n\u001b[0;32m-> 1022\u001b[0;31m       \u001b[0;32mreturn\u001b[0m \u001b[0mfn\u001b[0m\u001b[0;34m(\u001b[0m\u001b[0;34m*\u001b[0m\u001b[0margs\u001b[0m\u001b[0;34m)\u001b[0m\u001b[0;34m\u001b[0m\u001b[0m\n\u001b[0m\u001b[1;32m   1023\u001b[0m     \u001b[0;32mexcept\u001b[0m \u001b[0merrors\u001b[0m\u001b[0;34m.\u001b[0m\u001b[0mOpError\u001b[0m \u001b[0;32mas\u001b[0m \u001b[0me\u001b[0m\u001b[0;34m:\u001b[0m\u001b[0;34m\u001b[0m\u001b[0m\n\u001b[1;32m   1024\u001b[0m       \u001b[0mmessage\u001b[0m \u001b[0;34m=\u001b[0m \u001b[0mcompat\u001b[0m\u001b[0;34m.\u001b[0m\u001b[0mas_text\u001b[0m\u001b[0;34m(\u001b[0m\u001b[0me\u001b[0m\u001b[0;34m.\u001b[0m\u001b[0mmessage\u001b[0m\u001b[0;34m)\u001b[0m\u001b[0;34m\u001b[0m\u001b[0m\n",
      "\u001b[0;32m/usr/local/lib/python3.5/dist-packages/tensorflow/python/client/session.py\u001b[0m in \u001b[0;36m_run_fn\u001b[0;34m(session, feed_dict, fetch_list, target_list, options, run_metadata)\u001b[0m\n\u001b[1;32m   1002\u001b[0m         return tf_session.TF_Run(session, options,\n\u001b[1;32m   1003\u001b[0m                                  \u001b[0mfeed_dict\u001b[0m\u001b[0;34m,\u001b[0m \u001b[0mfetch_list\u001b[0m\u001b[0;34m,\u001b[0m \u001b[0mtarget_list\u001b[0m\u001b[0;34m,\u001b[0m\u001b[0;34m\u001b[0m\u001b[0m\n\u001b[0;32m-> 1004\u001b[0;31m                                  status, run_metadata)\n\u001b[0m\u001b[1;32m   1005\u001b[0m \u001b[0;34m\u001b[0m\u001b[0m\n\u001b[1;32m   1006\u001b[0m     \u001b[0;32mdef\u001b[0m \u001b[0m_prun_fn\u001b[0m\u001b[0;34m(\u001b[0m\u001b[0msession\u001b[0m\u001b[0;34m,\u001b[0m \u001b[0mhandle\u001b[0m\u001b[0;34m,\u001b[0m \u001b[0mfeed_dict\u001b[0m\u001b[0;34m,\u001b[0m \u001b[0mfetch_list\u001b[0m\u001b[0;34m)\u001b[0m\u001b[0;34m:\u001b[0m\u001b[0;34m\u001b[0m\u001b[0m\n",
      "\u001b[0;31mKeyboardInterrupt\u001b[0m: "
     ]
    }
   ],
   "source": [
    "epochs = 100\n",
    "batch_size = 500\n",
    "# Set's how much noise we're adding to the MNIST images\n",
    "noise_factor = 0.5\n",
    "sess.run(tf.global_variables_initializer())\n",
    "for e in range(epochs):\n",
    "    costs = []\n",
    "    for ii in range(mnist.train.num_examples//batch_size):\n",
    "        batch = mnist.train.next_batch(batch_size)\n",
    "        # Get images from the batch\n",
    "        imgs = batch[0].reshape((-1, 28, 28, 1))\n",
    "        \n",
    "        # Add random noise to the input images\n",
    "        noisy_imgs = imgs + noise_factor * np.random.randn(*imgs.shape)\n",
    "        # Clip the images to be between 0 and 1\n",
    "        noisy_imgs = np.clip(noisy_imgs, 0., 1.)\n",
    "        \n",
    "        # Noisy images as inputs, original images as targets\n",
    "        batch_cost, _ = sess.run([cost, opt], feed_dict={inputs_: noisy_imgs,\n",
    "                                                         targets_: imgs})\n",
    "\n",
    "        costs.append(batch_cost)\n",
    "\n",
    "    print(\"Epoch: {}/{}...\".format(e+1, epochs),\n",
    "          \"Training loss: {:.4f}\".format(np.mean(np.array(costs))))"
   ]
  },
  {
   "cell_type": "markdown",
   "metadata": {},
   "source": [
    "## Checking out the performance\n",
    "\n",
    "Here I'm adding noise to the test images and passing them through the autoencoder. It does a suprisingly great job of removing the noise, even though it's sometimes difficult to tell what the original number is."
   ]
  },
  {
   "cell_type": "code",
   "execution_count": 73,
   "metadata": {},
   "outputs": [
    {
     "data": {
      "image/png": "[encoded data removed]",
      "text/plain": [
       "<matplotlib.figure.Figure at 0x7f4570edeb70>"
      ]
     },
     "metadata": {},
     "output_type": "display_data"
    }
   ],
   "source": [
    "fig, axes = plt.subplots(nrows=2, ncols=10, sharex=True, sharey=True, figsize=(20,4))\n",
    "in_imgs = mnist.test.images[:10]\n",
    "noisy_imgs = in_imgs + noise_factor * np.random.randn(*in_imgs.shape)\n",
    "noisy_imgs = np.clip(noisy_imgs, 0., 1.)\n",
    "\n",
    "reconstructed = sess.run(decoded, feed_dict={inputs_: noisy_imgs.reshape((10, 28, 28, 1))})\n",
    "\n",
    "for images, row in zip([noisy_imgs, reconstructed], axes):\n",
    "    for img, ax in zip(images, row):\n",
    "        ax.imshow(img.reshape((28, 28)), cmap='Greys_r')\n",
    "        ax.get_xaxis().set_visible(False)\n",
    "        ax.get_yaxis().set_visible(False)\n",
    "\n",
    "fig.tight_layout(pad=0.1)"
   ]
  },
  {
   "cell_type": "code",
   "execution_count": null,
   "metadata": {},
   "outputs": [],
   "source": []
  }
 ],
 "metadata": {
  "kernelspec": {
   "display_name": "Python 3",
   "language": "python",
   "name": "python3"
  },
  "language_info": {
   "codemirror_mode": {
    "name": "ipython",
    "version": 3
   },
   "file_extension": ".py",
   "mimetype": "text/x-python",
   "name": "python",
   "nbconvert_exporter": "python",
   "pygments_lexer": "ipython3",
   "version": "3.5.2"
  }
 },
 "nbformat": 4,
 "nbformat_minor": 2
}
